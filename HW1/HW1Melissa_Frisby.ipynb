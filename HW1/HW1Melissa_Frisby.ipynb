{
 "cells": [
  {
   "cell_type": "markdown",
   "metadata": {
    "id": "MH6d4w6M9Ven"
   },
   "source": [
    "# Introduction to Data Science – Homework 1\n",
    "*COMP 5360 / MATH 4100, University of Utah, http://datasciencecourse.net/*\n",
    "\n",
    "Due: Friday, January 21, 11:59pm.\n",
    "\n",
    "This homework is designed to practice the skills we learned in up until Lecture 3: working with loops, conditions, functions, and the built-in Python data structures. Make sure to go through the lecture again in case you have any troubles.\n",
    "\n",
    "**Note: You are allowed to use built-in Python functions such as `len` and `range` etc. However, do not use functions that will solve the exercise entirely such as `reverse` to reverse a list or `sum` to sum a list.**\n",
    "\n",
    "**Note: You may not use higher-level library functions but should implement everything using functions, loops, and conditions.**"
   ]
  },
  {
   "cell_type": "markdown",
   "metadata": {
    "id": "Rl_mJZqA9Vep"
   },
   "source": [
    "## Your Data\n",
    "Fill out the following information: \n",
    "\n",
    "*First Name:* Melissa  \n",
    "*Last Name:* Frisby      \n",
    "*E-mail:*   u1175875@utah.edu      \n",
    "*UID:*  u1175875\n"
   ]
  },
  {
   "cell_type": "markdown",
   "metadata": {
    "id": "Ji-nFi-99Ver"
   },
   "source": [
    "## Problem 1: Largest Element\n",
    "\n",
    "Write a function that returns the largest element in a list. You can assume the list has at least one element."
   ]
  },
  {
   "cell_type": "code",
   "execution_count": 1,
   "metadata": {
    "id": "wr1jIaP59Ves"
   },
   "outputs": [],
   "source": [
    "# your code\n",
    "def get_largest_element(vals):\n",
    "    max_el = vals[0]\n",
    "    for x in vals:\n",
    "        if x > max_el:\n",
    "            max_el = x\n",
    "    return max_el"
   ]
  },
  {
   "cell_type": "code",
   "execution_count": 2,
   "metadata": {
    "id": "HVIPPmuP9Vet"
   },
   "outputs": [
    {
     "name": "stdout",
     "output_type": "stream",
     "text": [
      "999\n"
     ]
    }
   ],
   "source": [
    "print(get_largest_element([-13, -860, 25, -29, 17, 999, 69, 128, -12, 0, 18]))"
   ]
  },
  {
   "cell_type": "markdown",
   "metadata": {
    "id": "ohrWTVIt9Veu"
   },
   "source": [
    "## Problem 2: Reverse List\n",
    "\n",
    "Write a function `reverse` that takes a list as a parameter and reverses it.\n",
    "\n",
    "You need to implement two versions of the function: a version with element-wise processing, and another version using the list comprehension way."
   ]
  },
  {
   "cell_type": "code",
   "execution_count": 3,
   "metadata": {
    "id": "zr-oNO5H9Vev"
   },
   "outputs": [],
   "source": [
    "# your code\n",
    "def reverse(vals):\n",
    "    vals_rev = [0]*len(vals)\n",
    "    for x in range(len(vals)):\n",
    "        vals_rev[x] = vals[len(vals) - x - 1]\n",
    "    return vals_rev\n",
    "\n",
    "def reverse_comprehension(vals):\n",
    "    end = len(vals) - 1 \n",
    "    vals_rev = [vals[x] for x in range(end, -1, -1)]\n",
    "    return vals_rev"
   ]
  },
  {
   "cell_type": "code",
   "execution_count": 4,
   "metadata": {
    "id": "2Bps9lz99Vev"
   },
   "outputs": [
    {
     "name": "stdout",
     "output_type": "stream",
     "text": [
      "[5, 6, 7, 8, 9, 10]\n",
      "['Scarlett', 'Chris', 'Bruce', 'Steve', 'Tony']\n",
      "['Steve', 'Tony', 7, 6, 5]\n"
     ]
    }
   ],
   "source": [
    "# call your function with a couple of different lists and print the results here\n",
    "print(reverse([10, 9, 8, 7, 6, 5]))\n",
    "print(reverse([\"Tony\", \"Steve\", \"Bruce\", \"Chris\", \"Scarlett\"]))\n",
    "print(reverse([5, 6, 7, \"Tony\", \"Steve\"]))"
   ]
  },
  {
   "cell_type": "code",
   "execution_count": 5,
   "metadata": {
    "id": "OYRLesZg9Vew"
   },
   "outputs": [
    {
     "name": "stdout",
     "output_type": "stream",
     "text": [
      "[5, 6, 7, 8, 9, 10]\n",
      "['Scarlett', 'Chris', 'Bruce', 'Steve', 'Tony']\n",
      "['Steve', 'Tony', 7, 6, 5]\n"
     ]
    }
   ],
   "source": [
    "print(reverse_comprehension([10, 9, 8, 7, 6, 5]))\n",
    "print(reverse_comprehension([\"Tony\", \"Steve\", \"Bruce\", \"Chris\", \"Scarlett\"]))\n",
    "print(reverse_comprehension([5, 6, 7, \"Tony\", \"Steve\"]))"
   ]
  },
  {
   "cell_type": "markdown",
   "metadata": {
    "id": "6Jcug3z09Vex"
   },
   "source": [
    "## Problem 3: Combining List\n",
    "\n",
    "Write a function that combines two lists by alternatingly taking elements, e.g. [a,b,c], [1,2,3] → [a,1,b,2,c,3].\n",
    "In case of two lists of different length, the result should be [a,b,c,d],[1,2]=>[a,1,b,2,c,d], i.e., the elements of the longer list are appended at the end."
   ]
  },
  {
   "cell_type": "code",
   "execution_count": 6,
   "metadata": {
    "id": "F5NHxrtB9Vey"
   },
   "outputs": [],
   "source": [
    "# your code\n",
    "import itertools\n",
    "def combine_list(list1, list2):\n",
    "    new_list = []\n",
    "    for x,y in itertools.zip_longest(list1,list2):\n",
    "        new_list.append(x)\n",
    "        new_list.append(y)\n",
    "    for x in new_list:\n",
    "        if x is None:\n",
    "            new_list.remove(x)\n",
    "    return new_list"
   ]
  },
  {
   "cell_type": "code",
   "execution_count": 7,
   "metadata": {
    "id": "XTcxZt1S9Vey"
   },
   "outputs": [
    {
     "name": "stdout",
     "output_type": "stream",
     "text": [
      "[7, 'a', 8, 'A', 9, 'b', 10, 'B', 'c', 'C']\n",
      "\n",
      "[1, 'a', 2, 'b', 3, 'A', 4, 'B', 5, 6]\n"
     ]
    }
   ],
   "source": [
    "# call your function with a couple of different lists and print the results here\n",
    "print(combine_list([7,8,9,10], ['a', 'A', 'b', 'B', 'c', 'C']))\n",
    "print()\n",
    "print(combine_list([1,2,3,4,5,6], ['a', 'b', 'A', 'B']))"
   ]
  },
  {
   "cell_type": "markdown",
   "metadata": {
    "id": "yxKmpVQd9Vez"
   },
   "source": [
    "## Problem 4: Numbers to Digits\n",
    "\n",
    "Write a function `num_to_digits` that takes a number and returns a list of its digits. e.g. 789456 → [7, 8, 9, 4, 5, 6]\n",
    "\n",
    "You need to implement two versions of the function: a version with element-wise processing, and another version using the list comprehension way."
   ]
  },
  {
   "cell_type": "code",
   "execution_count": 8,
   "metadata": {
    "id": "NG72kC6t9Ve1"
   },
   "outputs": [],
   "source": [
    "# your code\n",
    "def num_to_digits(val):\n",
    "    digits = []\n",
    "    for x in iter(str(val)):\n",
    "        digits.append(x)\n",
    "    # convert to integers\n",
    "    for x in range(0, len(digits)):\n",
    "        digits[x] = int(digits[x])\n",
    "    return digits\n",
    "\n",
    "def num_to_digits_comprehension(val):\n",
    "    val = str(val)\n",
    "    digits = [x for x in val]\n",
    "    # convert to integers\n",
    "    for x in range(0, len(digits)):\n",
    "        digits[x] = int(digits[x])\n",
    "    return digits"
   ]
  },
  {
   "cell_type": "code",
   "execution_count": 9,
   "metadata": {
    "id": "3pjI4Gut9Ve2"
   },
   "outputs": [
    {
     "name": "stdout",
     "output_type": "stream",
     "text": [
      "[6, 8, 2, 3, 5, 7]\n",
      "[1, 2, 3, 9, 7, 1, 0, 8, 4, 5, 1, 0, 2, 9, 3, 4, 1, 0, 2, 9, 3, 4]\n",
      "\n",
      "[6, 8, 2, 3, 5, 7]\n",
      "[1, 2, 3, 9, 7, 1, 0, 8, 4, 5, 1, 0, 2, 9, 3, 4, 1, 0, 2, 9, 3, 4]\n"
     ]
    }
   ],
   "source": [
    "# call your function with a couple of different numbers and print the results here\n",
    "print(num_to_digits(682357))\n",
    "print(num_to_digits(1239710845102934102934))\n",
    "print()\n",
    "print(num_to_digits_comprehension(682357))\n",
    "print(num_to_digits_comprehension(1239710845102934102934))"
   ]
  },
  {
   "cell_type": "markdown",
   "metadata": {
    "id": "5n7BxHMQ9Ve3"
   },
   "source": [
    "## Problem 5: Product\n",
    "\n",
    "Write three functions that compute the product of the numbers in a list. The first function should use a for-loop, the second a while-loop and the third should use recursion.\n",
    "\n",
    "You need to implement two versions of the function using recursion: a version copying the list when passing the argument, and another version not copying the list when passing the argument.\n",
    "\n",
    "*Hint 1: Passing a slice of the list as an argument will copy the list.*\n",
    "\n",
    "*Hint 2: A function may need more than one argument, but you should allow the function to be called with only one argument given.*"
   ]
  },
  {
   "cell_type": "code",
   "execution_count": 10,
   "metadata": {
    "id": "-PysUUrU9Ve4"
   },
   "outputs": [],
   "source": [
    "# your code\n",
    "def multiply_for(list1):\n",
    "    mult = 1\n",
    "    for x in list1:\n",
    "        mult *= x\n",
    "    return mult\n",
    "\n",
    "def multiply_while(list1):\n",
    "    mult = 1\n",
    "    x = 0\n",
    "    while x < len(list1):\n",
    "        mult = mult*list1[x]\n",
    "        x = x + 1\n",
    "    return mult\n",
    "\n",
    "def multiply_recursive(list1, ind = 0):\n",
    "    if ind == (len(list1)-1):\n",
    "        return list1[ind]\n",
    "    else:\n",
    "        return (list1[ind]*multiply_recursive(list1, ind+1))\n",
    "\n",
    "def multiply_recursive_no_copy(list1, ind = 0):\n",
    "    if ind == (len(list1)-1):\n",
    "        return list1[ind]\n",
    "    else:\n",
    "        return (list1[ind]*multiply_recursive_no_copy(list1, ind+1))"
   ]
  },
  {
   "cell_type": "code",
   "execution_count": 11,
   "metadata": {
    "id": "79pC87cC9Ve5"
   },
   "outputs": [
    {
     "name": "stdout",
     "output_type": "stream",
     "text": [
      "0 0 0 0\n",
      "\n",
      "1632960 1632960 1632960 1632960\n",
      "\n",
      "-62208 -62208 -62208 -62208\n",
      "\n",
      "0 0 0 0\n"
     ]
    }
   ],
   "source": [
    "# call your function with a couple of different lists and print the results here\n",
    "list1 = range(9)\n",
    "list2 = [1, 6, 2, 2, -2, 5, 9, 3, 7, -4, 9]\n",
    "list3 = [1, 8, 2, 3, 3, 9, 1, 8, -2, 3]\n",
    "list4 = [3, 6, 9, -3, 2, 7, 6, 0, -9]\n",
    "\n",
    "print(multiply_for(list1), multiply_while(list1), multiply_recursive(list1), multiply_recursive_no_copy(list1))\n",
    "print()\n",
    "print(multiply_for(list2), multiply_while(list2), multiply_recursive(list2), multiply_recursive_no_copy(list2))\n",
    "print()\n",
    "print(multiply_for(list3), multiply_while(list3), multiply_recursive(list3), multiply_recursive_no_copy(list3))\n",
    "print()\n",
    "print(multiply_for(list4), multiply_while(list4), multiply_recursive(list4), multiply_recursive_no_copy(list4))"
   ]
  },
  {
   "cell_type": "markdown",
   "metadata": {
    "id": "_5KdFNEG9Ve5"
   },
   "source": [
    "6## Problem 6: Filtering\n",
    "\n",
    "Write a function `filter_above` that filters out elements from the **integer** list that are above a certain threshold. You may assume that there is at least one element left in the list after filtering. \n",
    "\n",
    "For example, aftering filtering out elements above 2 from the list [3,-2,-3,1,6,0], you get the output [-2,-3,1,0]."
   ]
  },
  {
   "cell_type": "code",
   "execution_count": 12,
   "metadata": {
    "id": "RR6AVB7h9Ve6"
   },
   "outputs": [],
   "source": [
    "# your code\n",
    "def filter_above(list1, max_num):\n",
    "    for x in list1:\n",
    "        if x > max_num:\n",
    "            list1.remove(x)\n",
    "    return list1"
   ]
  },
  {
   "cell_type": "code",
   "execution_count": 13,
   "metadata": {
    "id": "lMvJaf9f9Ve7"
   },
   "outputs": [
    {
     "name": "stdout",
     "output_type": "stream",
     "text": [
      "[-6, 1, 0, -9]\n",
      "[-2, 1, 2, -8, 3]\n",
      "[5, 5, 5, 5, 5, 5, 5, 5]\n"
     ]
    }
   ],
   "source": [
    "# call your function with a couple of different n and print the results here\n",
    "print(filter_above([7,-6,4,1,0,-9], 0))\n",
    "print(filter_above([9,-2,1,8,2,18,-8,3], 6))\n",
    "print(filter_above([5,5,5,5,5,5,5,5],5))"
   ]
  },
  {
   "cell_type": "markdown",
   "metadata": {
    "id": "EGYlBRFG9Ve7"
   },
   "source": [
    "## Problem 7: Fibonacci Sequence\n",
    "\n",
    "Write a function that takes a number `n` and an empty array that writes the first `n` numbers of the [Fibonacci Sequence](https://en.wikipedia.org/wiki/Fibonacci_number) into the empty array. Print the array. \n",
    "\n",
    "The Fibonnaci Sequnece is the sequence where every number after the first two is the sum of the previous two numbers, i.e.,\n",
    "\n",
    "1, 1, 2, 3, 5, 8, 13, 21, 34, 55, ..."
   ]
  },
  {
   "cell_type": "code",
   "execution_count": 14,
   "metadata": {
    "id": "KLhYmYjw9Ve8"
   },
   "outputs": [],
   "source": [
    "# your code  \n",
    "def fibonnacci(n, array):\n",
    "    x1 = 0\n",
    "    x2 = 1\n",
    "    x3 = 0\n",
    "    while len(array) < n:\n",
    "        array.append(x2)\n",
    "        x3 = x1 + x2\n",
    "        x1 = x2\n",
    "        x2 = x3\n",
    "    return array"
   ]
  },
  {
   "cell_type": "code",
   "execution_count": 15,
   "metadata": {
    "id": "D0Ben5UQ9Ve9"
   },
   "outputs": [
    {
     "name": "stdout",
     "output_type": "stream",
     "text": [
      "[1, 1, 2, 3, 5, 8, 13, 21, 34, 55, 89, 144, 233, 377, 610, 987, 1597]\n"
     ]
    }
   ],
   "source": [
    "# call your function with a couple of different n and print the results here\n",
    "sequence = []\n",
    "fibonnacci(17, sequence)\n",
    "print(sequence)  "
   ]
  },
  {
   "cell_type": "markdown",
   "metadata": {
    "id": "6ycInDlR9Ve9"
   },
   "source": [
    "# Problem 8: Moving Attendance Averages\n",
    "\n",
    "Write a function `moving_average` that takes a list of daily attendance values, and computes a moving average over every consecutive `k` days. Some days will be missing measurements and will instead have the value `0`.\n",
    "\n",
    "**Caveats:**\n",
    "* The days missing measurements should be included in your `k` day window, but should not affect the average.\n",
    "  * e.g.`moving_average([1,0,2],3)` should return `[1.5]`\n",
    "* If all days in a window are missing measurements then the average should also have the value `0`.\n",
    "  * e.g. `moving_average([0, 0, 2], 2)` should return `[0, 2]`\n",
    "* Only compute averages as long as you have enough data points to fill the window.\n",
    "  * e.g. `moving_average([1,2,3,4,5,6,7,8],7)` should return a list of length two.\n",
    "  * e.g. `moving_average([1,2,3,4,5],2)` should return a list of length 4.\n",
    "  * e.g. `moving_average([1,2,3], 4)` should return an empty list.\n",
    "\n",
    "You can use these as example lists, but make sure that your algorithm works on other lists/windows."
   ]
  },
  {
   "cell_type": "code",
   "execution_count": 16,
   "metadata": {
    "id": "qyQv0Ms19Ve-"
   },
   "outputs": [
    {
     "name": "stdout",
     "output_type": "stream",
     "text": [
      "[1.5]\n",
      "[0.0, 2.0]\n",
      "[73.0, 72.0, 77.0, 84.0]\n"
     ]
    }
   ],
   "source": [
    "# your code \n",
    "def moving_average(list1, days):\n",
    "    i = 0\n",
    "    avg_list = [0]*(len(list1)-days+1)\n",
    "    while i < (len(list1)-days+1):\n",
    "        win = list1[i : i + days]\n",
    "        win = [x for x in win if x != 0]\n",
    "        if len(win) == 0:\n",
    "            win = [0]\n",
    "        win_avg = sum(win) / len(win)\n",
    "        avg_list[i] = win_avg\n",
    "        i += 1  \n",
    "    return avg_list\n",
    "print(moving_average([1, 0, 2], 3))\n",
    "print(moving_average([0, 0, 2], 2))\n",
    "print(moving_average([81,72,53,94,65,76,97,88],5))"
   ]
  },
  {
   "cell_type": "markdown",
   "metadata": {
    "id": "-If3GsvL9Ve_"
   },
   "source": [
    "### From provided examples:"
   ]
  },
  {
   "cell_type": "code",
   "execution_count": 17,
   "metadata": {
    "id": "Aq9L7jCm9Ve_"
   },
   "outputs": [
    {
     "name": "stdout",
     "output_type": "stream",
     "text": [
      "Computed Averages: [89.5] Expected: [89.5]\n",
      "Computed Averages: [0.0, 53.0] Expected: [0, 53.0]\n",
      "Length of List: 4 Expected Length: 4\n",
      "Length of List: 3 Expected Length: 3\n",
      "Length of List: 1 Expected Length: 1\n"
     ]
    }
   ],
   "source": [
    "print('Computed Averages: ' + str(moving_average([87,0,92],3)), 'Expected: [89.5]')\n",
    "print('Computed Averages: ' + str(moving_average([0, 0, 53], 2)), 'Expected: [0, 53.0]')\n",
    "print('Length of List: ' + str(len(moving_average([81,72,53,94,65,76,97,88],5))), 'Expected Length: 4')\n",
    "print('Length of List: ' + str(len(moving_average([91,92,83,64,75],3))), 'Expected Length: 3')\n",
    "print('Length of List: ' + str(len(moving_average([81,82,76],3))), 'Expected Length: 1')"
   ]
  },
  {
   "cell_type": "markdown",
   "metadata": {
    "id": "SN5hbWM59Ve_"
   },
   "source": [
    "### Other Examples:"
   ]
  },
  {
   "cell_type": "code",
   "execution_count": 18,
   "metadata": {
    "id": "QUlq4Qxa9VfA"
   },
   "outputs": [],
   "source": [
    "student_1 = range(17)"
   ]
  },
  {
   "cell_type": "code",
   "execution_count": 19,
   "metadata": {
    "id": "iNMtJydP9VfA"
   },
   "outputs": [],
   "source": [
    "student_2 = [75,83,0,95,92,0]"
   ]
  },
  {
   "cell_type": "code",
   "execution_count": 20,
   "metadata": {
    "id": "cJdpAIz49VfB"
   },
   "outputs": [],
   "source": [
    "student_3 = [77,0,0,0,68,60,70,0,92]"
   ]
  },
  {
   "cell_type": "code",
   "execution_count": 21,
   "metadata": {
    "id": "TQekdAqV9VfB"
   },
   "outputs": [],
   "source": [
    "student_4 = [81,72,93]"
   ]
  },
  {
   "cell_type": "code",
   "execution_count": 22,
   "metadata": {
    "id": "9y0XuLyh9VfC"
   },
   "outputs": [],
   "source": [
    "student_5 = [0, 0, 0, 62]"
   ]
  },
  {
   "cell_type": "code",
   "execution_count": 23,
   "metadata": {
    "id": "ai2zsY7X9VfD"
   },
   "outputs": [],
   "source": [
    "student_6 = []"
   ]
  },
  {
   "cell_type": "code",
   "execution_count": 24,
   "metadata": {
    "id": "0i-LsPMk9VfE"
   },
   "outputs": [
    {
     "name": "stdout",
     "output_type": "stream",
     "text": [
      "[4.0, 4.5, 5.5, 6.5, 7.5, 8.5, 9.5, 10.5, 11.5, 12.5]\n"
     ]
    }
   ],
   "source": [
    "print(moving_average(student_1, 8))"
   ]
  },
  {
   "cell_type": "code",
   "execution_count": 25,
   "metadata": {
    "id": "ulr2mV3z9VfE"
   },
   "outputs": [
    {
     "name": "stdout",
     "output_type": "stream",
     "text": [
      "[79.0, 83.0, 95.0, 93.5, 92.0]\n",
      "[79.0, 89.0, 93.5, 93.5]\n"
     ]
    }
   ],
   "source": [
    "print(moving_average(student_2, 2))\n",
    "print(moving_average(student_2, 3))"
   ]
  },
  {
   "cell_type": "code",
   "execution_count": 26,
   "metadata": {
    "id": "R1plsoR39VfE"
   },
   "outputs": [
    {
     "name": "stdout",
     "output_type": "stream",
     "text": [
      "[77.0, 0.0, 0.0, 68.0, 64.0, 65.0, 70.0, 92.0]\n",
      "[77.0, 0.0, 68.0, 64.0, 66.0, 65.0, 81.0]\n",
      "[77.0, 68.0, 64.0, 66.0, 66.0, 74.0]\n"
     ]
    }
   ],
   "source": [
    "print(moving_average(student_3, 2))\n",
    "print(moving_average(student_3, 3))\n",
    "print(moving_average(student_3, 4))"
   ]
  },
  {
   "cell_type": "code",
   "execution_count": 27,
   "metadata": {
    "id": "mmipCeK69VfF",
    "scrolled": true
   },
   "outputs": [
    {
     "name": "stdout",
     "output_type": "stream",
     "text": [
      "[81.0, 72.0, 93.0]\n",
      "[76.5, 82.5]\n",
      "[82.0]\n",
      "[]\n"
     ]
    }
   ],
   "source": [
    "print(moving_average(student_4, 1))\n",
    "print(moving_average(student_4, 2))\n",
    "print(moving_average(student_4, 3))\n",
    "print(moving_average(student_4, 4))"
   ]
  },
  {
   "cell_type": "code",
   "execution_count": 28,
   "metadata": {
    "id": "VdKFZJ249VfF",
    "scrolled": false
   },
   "outputs": [
    {
     "name": "stdout",
     "output_type": "stream",
     "text": [
      "[0.0, 0.0, 0.0, 62.0]\n",
      "[0.0, 0.0, 62.0]\n",
      "[0.0, 62.0]\n",
      "[62.0]\n"
     ]
    }
   ],
   "source": [
    "print(moving_average(student_5, 1))\n",
    "print(moving_average(student_5, 2))\n",
    "print(moving_average(student_5, 3))\n",
    "print(moving_average(student_5, 4))"
   ]
  },
  {
   "cell_type": "code",
   "execution_count": 29,
   "metadata": {
    "id": "xnSCyB4W9VfG",
    "scrolled": true
   },
   "outputs": [
    {
     "name": "stdout",
     "output_type": "stream",
     "text": [
      "[]\n",
      "[]\n"
     ]
    }
   ],
   "source": [
    "print(moving_average(student_6, 1))\n",
    "print(moving_average(student_6, 7))"
   ]
  },
  {
   "cell_type": "code",
   "execution_count": null,
   "metadata": {},
   "outputs": [],
   "source": []
  },
  {
   "cell_type": "code",
   "execution_count": null,
   "metadata": {},
   "outputs": [],
   "source": []
  }
 ],
 "metadata": {
  "anaconda-cloud": {},
  "colab": {
   "provenance": []
  },
  "kernelspec": {
   "display_name": "Python 3 (ipykernel)",
   "language": "python",
   "name": "python3"
  },
  "language_info": {
   "codemirror_mode": {
    "name": "ipython",
    "version": 3
   },
   "file_extension": ".py",
   "mimetype": "text/x-python",
   "name": "python",
   "nbconvert_exporter": "python",
   "pygments_lexer": "ipython3",
   "version": "3.9.13"
  }
 },
 "nbformat": 4,
 "nbformat_minor": 1
}
