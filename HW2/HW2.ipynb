{
 "cells": [
  {
   "cell_type": "markdown",
   "metadata": {},
   "source": [
    "# Introduction to Data Science – Homework 2\n",
    "*COMP 5360 / MATH 4100, University of Utah, http://datasciencecourse.net/*\n",
    "\n",
    "Due: Friday, January 28, 11:59pm.\n",
    "\n",
    "This homework is designed to reinforce the skills we covered in the last week including various descriptive statistics. Make sure to go through the lectures again in case you have any trouble.\n",
    "\n",
    "**Note: Please provide comments describing what your code was doing at each stage**.\n",
    "\n",
    "**Note: Please fill the cell that says `Your Interpretation` or `Your description` in the below code**.\n"
   ]
  },
  {
   "cell_type": "markdown",
   "metadata": {},
   "source": [
    "## Your Data\n",
    "Fill out the following information: \n",
    "\n",
    "*First Name:* Melissa   \n",
    "*Last Name:* Frisby  \n",
    "*E-mail:* u1175875@utah.edu   \n",
    "*UID:* u1175875  "
   ]
  },
  {
   "cell_type": "markdown",
   "metadata": {},
   "source": [
    "## Part 1: Vector data\n",
    "\n",
    "We first will work with a vector of monthly average temperatures for Snowbird, UT, which we downloaded from [NOAA](https://www.ncdc.noaa.gov/). The data is included in this repository in the file `snowbird.csv`.\n",
    "\n",
    "The data is stored in the CSV format, which is a simple textfile with 'Comma Separated Values'.\n",
    "To load the data, we use the read_csv function from the pandas library. The following code reads the file and stores it in a vector:"
   ]
  },
  {
   "cell_type": "code",
   "execution_count": 2,
   "metadata": {
    "scrolled": true
   },
   "outputs": [
    {
     "name": "stdout",
     "output_type": "stream",
     "text": [
      "       DATE  PRCP  TAVG\n",
      "0   2010-01  7.39  27.5\n",
      "1   2010-02  2.99  23.8\n",
      "2   2010-03  5.88  29.0\n",
      "3   2010-04  9.69  33.0\n",
      "4   2010-05  6.30  37.2\n",
      "..      ...   ...   ...\n",
      "75  2016-04  7.19  38.0\n",
      "76  2016-05  5.40  42.8\n",
      "77  2016-06  1.20  59.2\n",
      "78  2016-07  0.00  62.9\n",
      "79  2016-08  1.89  60.4\n",
      "\n",
      "[80 rows x 3 columns]\n",
      "[27.5, 23.8, 29.0, 33.0, 37.2, 51.5, 61.7, 58.0, 54.1, 42.4, 27.2, 27.7, 23.7, 22.0, 28.5, 30.4, 38.6, 50.1, 60.4, 62.2, 53.8, 40.7, 28.9, 26.0, 27.4, 23.4, 34.1, 38.4, 44.8, 56.3, 62.3, 62.8, 53.8, 41.0, 35.3, 22.5, 23.7, 21.8, 31.2, 32.3, 44.0, 56.6, 62.9, 60.9, 50.4, 37.7, 33.9, 22.6, 27.2, 26.0, 31.1, 34.9, 45.6, 52.4, 63.5, 56.0, 53.8, 44.8, 30.8, 27.1, 31.5, 31.4, 36.6, 36.0, 42.6, 59.6, 58.4, 59.9, 55.2, 45.2, 27.6, 22.8, 25.1, 30.4, 31.7, 38.0, 42.8, 59.2, 62.9, 60.4]\n",
      "[7.39, 2.99, 5.88, 9.69, 6.3, 2.2, 1.0, 3.09, 1.09, 7.8, 9.7, 12.89, 3.4, 7.2, 8.09, 13.79, 9.99, 2.2, 0.6, 2.3, 2.29, 5.2, 4.69, 1.9, 6.6, 5.6, 5.4, 5.69, 2.6, 0.0, 2.09, 0.59, 2.2, 3.2, 6.19, 7.7, 4.4, 2.8, 3.3, 5.3, 3.8, 0.0, 4.29, 2.2, 4.39, 4.7, 2.0, 4.9, 4.1, 7.1, 6.5, 5.0, 2.9, 1.2, 1.0, 5.0, 4.8, 1.5, 6.09, 7.8, 2.59, 2.3, 2.59, 4.09, 7.09, 1.0, 1.8, 3.1, 4.0, 3.59, 3.9, 6.7, 8.29, 3.19, 5.59, 7.19, 5.4, 1.2, 0.0, 1.89]\n"
     ]
    }
   ],
   "source": [
    "# import the csv library\n",
    "import csv\n",
    "# import the math library we'll use later\n",
    "import math\n",
    "# import the pandas library\n",
    "import pandas as pd\n",
    "\n",
    "# read in and print the data\n",
    "data = pd.read_csv(\"snowbird.csv\")\n",
    "print(data)\n",
    "\n",
    "# define vectors of interest\n",
    "temperature_vector = data[\"TAVG\"].tolist()\n",
    "precipitation_vector = data[\"PRCP\"].tolist()\n",
    "        \n",
    "# print the vector to see if it worked\n",
    "print (temperature_vector)\n",
    "print (precipitation_vector)"
   ]
  },
  {
   "cell_type": "markdown",
   "metadata": {},
   "source": [
    "We'll next use descriptive statistics to analyze the data in `temperature_vector`.\n",
    "\n",
    "In this problem, we'll do calculations that are also available in NumPy. For the purpose of this homework, however, **we want you to implement the solutions using standard python functionality and the math library, and then check your results using functions in NumPy** . \n",
    "\n",
    "See the the [NumPy library](http://docs.scipy.org/doc/numpy-1.11.0/reference/routines.statistics.html) documentation and include the checks as a separate code cell. "
   ]
  },
  {
   "cell_type": "markdown",
   "metadata": {},
   "source": [
    "### Task 1.1: Calculate the Sum of a Vector\n",
    "\n",
    "Write a function that calculates and returns the sum of a vector that you pass into it. \n",
    "\n",
    "Pass the temperature and precipitaton vector into this function and print the result."
   ]
  },
  {
   "cell_type": "code",
   "execution_count": 3,
   "metadata": {},
   "outputs": [
    {
     "name": "stdout",
     "output_type": "stream",
     "text": [
      "3269.0000000000005\n",
      "350.0999999999998\n"
     ]
    }
   ],
   "source": [
    "# your code goes here\n",
    "def sum_vector(vals):\n",
    "    sum_vals = sum(vals)\n",
    "    return sum_vals\n",
    "\n",
    "print(sum_vector(temperature_vector))\n",
    "print(sum_vector(precipitation_vector))"
   ]
  },
  {
   "cell_type": "code",
   "execution_count": 4,
   "metadata": {},
   "outputs": [
    {
     "name": "stdout",
     "output_type": "stream",
     "text": [
      "3269.0\n",
      "350.1\n"
     ]
    }
   ],
   "source": [
    "# check results using Numpy\n",
    "import numpy as np\n",
    "print(np.sum(temperature_vector))\n",
    "print(np.sum(precipitation_vector))"
   ]
  },
  {
   "cell_type": "markdown",
   "metadata": {},
   "source": [
    "### Task 1.2: Calculate the Mean of a Vector\n",
    "\n",
    "Write a function that calculates and returns the [arithmetic mean](https://en.wikipedia.org/wiki/Arithmetic_mean) of a vector that you pass into it. Use your above defined sum function to calculate sum of all the elements of a vector.\n",
    "\n",
    "Pass the temperature and precipitaton vector into this function and print the result. Provide a written interpretation of your results (e.g., \"The mean temperature for Snowbird is XXX degrees Fahrenheit. The mean precipitation is XXX inches.\")"
   ]
  },
  {
   "cell_type": "code",
   "execution_count": 5,
   "metadata": {},
   "outputs": [
    {
     "name": "stdout",
     "output_type": "stream",
     "text": [
      "40.862500000000004\n",
      "4.376249999999997\n"
     ]
    }
   ],
   "source": [
    "# your code goes here\n",
    "def arith_mean(vals):\n",
    "    sum_vals = sum_vector(vals)\n",
    "    amean = sum_vals/len(vals)\n",
    "    return amean\n",
    "\n",
    "print(arith_mean(temperature_vector))\n",
    "print(arith_mean(precipitation_vector))"
   ]
  },
  {
   "cell_type": "code",
   "execution_count": 6,
   "metadata": {},
   "outputs": [
    {
     "name": "stdout",
     "output_type": "stream",
     "text": [
      "40.8625\n",
      "4.376250000000001\n"
     ]
    }
   ],
   "source": [
    "# check results using Numpy\n",
    "print(np.mean(temperature_vector))\n",
    "print(np.mean(precipitation_vector))"
   ]
  },
  {
   "cell_type": "markdown",
   "metadata": {},
   "source": [
    "**Your Interpretation:** Numpy will give the rounded values of the sum and mean. It is just as accurate as the sum and mean functions defined in the code, and significantly easier to use."
   ]
  },
  {
   "cell_type": "markdown",
   "metadata": {},
   "source": [
    "### Task 1.3: Calculate the Median of a Vector\n",
    "Write a function that calculates and returns the [median](https://en.wikipedia.org/wiki/Median) of a vector. Pass the temperature vector into this function and print the result. Make sure that your function works for both vectors with an even and odd number of elements. In the case of an even number of elements, use the mean of the two middle values. Provide a written interpretation of your results.\n",
    "\n",
    "Hint: the [`sorted()`](https://docs.python.org/3/library/functions.html#sorted) function might be helpful for this."
   ]
  },
  {
   "cell_type": "code",
   "execution_count": 7,
   "metadata": {},
   "outputs": [
    {
     "name": "stdout",
     "output_type": "stream",
     "text": [
      "37.85\n",
      "4.045\n"
     ]
    }
   ],
   "source": [
    "# your code goes here\n",
    "import statistics as stats\n",
    "def median_vec(vals):\n",
    "    median = stats.median(vals)\n",
    "    return median\n",
    "\n",
    "print(median_vec(temperature_vector))\n",
    "print(median_vec(precipitation_vector))"
   ]
  },
  {
   "cell_type": "code",
   "execution_count": 8,
   "metadata": {},
   "outputs": [
    {
     "name": "stdout",
     "output_type": "stream",
     "text": [
      "37.85\n",
      "4.045\n"
     ]
    }
   ],
   "source": [
    "# check results using Numpy\n",
    "print(np.median(temperature_vector))\n",
    "print(np.median(precipitation_vector))"
   ]
  },
  {
   "cell_type": "markdown",
   "metadata": {},
   "source": [
    "**Your Interpretation:** The median is the same for both of the functions. Numpy is just as accurate as the statistics library function."
   ]
  },
  {
   "cell_type": "markdown",
   "metadata": {},
   "source": [
    "### Task 1.4: Calculate the Variance of a Vector\n",
    "\n",
    "Write a function that calculates and returns the [variance](https://en.wikipedia.org/wiki/Variance) of a vector. Pass the temperature and precipitation vectors into this function and print the result. Provide a written interpretation of your results. Is the variance high? Why, Why not? \n",
    "\n",
    "The variance is the average of the squared deviations from the mean, i.e.,\n",
    "\n",
    "$$ Var(X) = {\\sigma}^{2} = \\frac{1}{N} \\sum_{i=1}^{N} {{(x_i - \\mu)}^2} $$\n",
    "\n",
    "where $\\mu$ is the mean of the vector. Hint: use your mean function to calculate it."
   ]
  },
  {
   "cell_type": "code",
   "execution_count": 9,
   "metadata": {},
   "outputs": [
    {
     "name": "stdout",
     "output_type": "stream",
     "text": [
      "183.65334374999995\n",
      "7.9548509375000025\n"
     ]
    }
   ],
   "source": [
    "# your code goes here\n",
    "def variance_vec(vals):\n",
    "    mean_vals = arith_mean(vals)\n",
    "    n = len(vals)\n",
    "    sum_vals = 0\n",
    "    for x in vals:\n",
    "        sum_vals += (x-mean_vals)**2\n",
    "    var = sum_vals/n\n",
    "    return var\n",
    "\n",
    "print(variance_vec(temperature_vector))\n",
    "print(variance_vec(precipitation_vector))"
   ]
  },
  {
   "cell_type": "code",
   "execution_count": 10,
   "metadata": {},
   "outputs": [
    {
     "name": "stdout",
     "output_type": "stream",
     "text": [
      "183.65334374999998\n",
      "7.9548509375\n"
     ]
    }
   ],
   "source": [
    "# check results using Numpy\n",
    "print(np.var(temperature_vector))\n",
    "print(np.var(precipitation_vector))"
   ]
  },
  {
   "cell_type": "markdown",
   "metadata": {},
   "source": [
    "**Your Interpretation:** Numpy is just as accurate as a defined function and much easier and more efficient to use."
   ]
  },
  {
   "cell_type": "markdown",
   "metadata": {},
   "source": [
    "### Task 1.5: Histogram\n",
    "\n",
    "Write a function that takes a vector and an integer `b` and calculates a [histogram](https://en.wikipedia.org/wiki/Histogram) with `b` bins. The function should return an array containing two arrays. The first should be the counts for each bin, the second should contain the borders of the bins.\n",
    "\n",
    "For `b=6` for the temperature vector, your output should look like this: \n",
    "\n",
    "`[[20, 16, 11, 6, 11, 16], [21.8, 28.75, 35.7, 42.650000000000006, 49.6, 56.55, 63.5]]`\n",
    "\n",
    "Here, the first array gives the size of these bins, the second defines the bands that are equally spaced between minimum and maximum value. That is, the first band from 21.8-28.75 has 20 entries, the second, from 28.75-35.7 has 16 entries, etc. \n",
    "\n",
    "\n",
    "Calculate the histogram for precipitation and temperature when b=5. Once you have the calculated bins and values, plot the histogram for precipitaion and temperature using `hist` function in `matplotlib.pyplot` library. Provide a written interpretation of your results. Comment on the shape of each histogram; is it unimodal or bimodal? Is the distribution skewed (if so, in which direction)?"
   ]
  },
  {
   "cell_type": "code",
   "execution_count": 47,
   "metadata": {},
   "outputs": [
    {
     "name": "stdout",
     "output_type": "stream",
     "text": [
      "([22, 20, 11, 8, 19], [21.8, 30.14, 38.480000000000004, 46.82, 55.16, 63.5])\n",
      "([27, 28, 19, 4, 2], [0.0, 2.758, 5.516, 8.274000000000001, 11.032, 13.79])\n"
     ]
    },
    {
     "data": {
      "text/plain": [
       "(array([27., 28., 19.,  4.,  2.]),\n",
       " array([ 0.   ,  2.758,  5.516,  8.274, 11.032, 13.79 ]),\n",
       " <BarContainer object of 5 artists>)"
      ]
     },
     "execution_count": 47,
     "metadata": {},
     "output_type": "execute_result"
    },
    {
     "data": {
      "image/png": "[encoded data removed]",
      "text/plain": [
       "<Figure size 640x480 with 1 Axes>"
      ]
     },
     "metadata": {},
     "output_type": "display_data"
    }
   ],
   "source": [
    "# your code goes here\n",
    "import matplotlib.pyplot as plt\n",
    "def histogram(vals, bins):\n",
    "    # find size of each bin\n",
    "    size = (max(vals)-min(vals))/bins\n",
    "    # sort values to separate into bins\n",
    "    sorted_vals = sorted(vals)\n",
    "    bin_ends = [0]*(bins+1)\n",
    "    binned = []\n",
    "    in_buckets = []\n",
    "    for i in range(bins+1):\n",
    "        # find end value and add to bin ends\n",
    "        end = i*size+min(vals)\n",
    "        bin_ends[i] = end\n",
    "    for i in range(len(bin_ends)):\n",
    "        inner = []\n",
    "        for x in sorted_vals:\n",
    "            # create list of values needed in bins\n",
    "            if (x <= bin_ends[i] and x >= bin_ends[i-1]):\n",
    "                inner.append(x)\n",
    "        binned.append(inner)\n",
    "    # delete out empty array\n",
    "    binned = [x for x in binned if x != []]\n",
    "    for x in binned:\n",
    "        # count how many elements in each bin\n",
    "        in_buckets.append(len(x))\n",
    "    return (in_buckets, bin_ends)\n",
    "\n",
    "\n",
    "# the call to your function\n",
    "print(histogram(temperature_vector, bins = 5))\n",
    "print(histogram(precipitation_vector,bins = 5))\n",
    "plt.hist(temperature_vector, bins = 5)\n",
    "plt.hist(precipitation_vector, bins = 5)"
   ]
  },
  {
   "cell_type": "code",
   "execution_count": 46,
   "metadata": {},
   "outputs": [
    {
     "name": "stdout",
     "output_type": "stream",
     "text": [
      "(array([22, 20, 11,  8, 19], dtype=int64), array([21.8 , 30.14, 38.48, 46.82, 55.16, 63.5 ]))\n",
      "(array([27, 28, 19,  4,  2], dtype=int64), array([ 0.   ,  2.758,  5.516,  8.274, 11.032, 13.79 ]))\n"
     ]
    },
    {
     "data": {
      "text/plain": [
       "(array([27., 28., 19.,  4.,  2.]),\n",
       " array([ 0.   ,  2.758,  5.516,  8.274, 11.032, 13.79 ]),\n",
       " <BarContainer object of 5 artists>)"
      ]
     },
     "execution_count": 46,
     "metadata": {},
     "output_type": "execute_result"
    },
    {
     "data": {
      "image/png": "[encoded data removed]",
      "text/plain": [
       "<Figure size 640x480 with 1 Axes>"
      ]
     },
     "metadata": {},
     "output_type": "display_data"
    }
   ],
   "source": [
    "# check results using Numpy\n",
    "print(np.histogram(temperature_vector, bins = 5))\n",
    "print(np.histogram(precipitation_vector, bins = 5))\n",
    "plt.hist(temperature_vector, bins = 5)\n",
    "plt.hist(precipitation_vector, bins = 5)"
   ]
  },
  {
   "cell_type": "markdown",
   "metadata": {},
   "source": [
    "**Your interpretation:** Numpy histogram function will return the bin ranges in a more efficient manner and just as accurate as a manual function."
   ]
  },
  {
   "cell_type": "markdown",
   "metadata": {},
   "source": [
    "## Part 2: Working with Matrices"
   ]
  },
  {
   "cell_type": "markdown",
   "metadata": {},
   "source": [
    "For the second part of the homework, we are going to work with matrices. The [dataset we will use](https://www.wunderground.com/history/airport/KSLC/2015/1/1/CustomHistory.html?dayend=31&monthend=12&yearend=2015&req_city=&req_state=&req_statename=&reqdb.zip=&reqdb.magic=&reqdb.wmo=) contains different properties of the weather in Salt Lake City for 2015 (temperature, humidity, sea level, ...). It is stored in the file [`SLC_2015.csv`](SLC_2015.csv) in this repository."
   ]
  },
  {
   "cell_type": "markdown",
   "metadata": {},
   "source": [
    "We first read the data from the file and store it in a nested python array (`weather_matrix`). A nested python array is an array, where each element is an array itself. Here is a simple example: "
   ]
  },
  {
   "cell_type": "code",
   "execution_count": 48,
   "metadata": {},
   "outputs": [
    {
     "data": {
      "text/plain": [
       "[[1, 2, 3], ['a', 'b', 'c']]"
      ]
     },
     "execution_count": 48,
     "metadata": {},
     "output_type": "execute_result"
    }
   ],
   "source": [
    "arr1 = [1,2,3]\n",
    "arr2 = ['a', 'b', 'c']\n",
    "\n",
    "nestedArr = [arr1, arr2]\n",
    "nestedArr"
   ]
  },
  {
   "cell_type": "markdown",
   "metadata": {},
   "source": [
    "We provide you with the import code, which writes the data into the nested list `temperature_matrix`. The list contains one list for each month, which, in turn, contains the mean temperature of every day of that month. "
   ]
  },
  {
   "cell_type": "code",
   "execution_count": 49,
   "metadata": {},
   "outputs": [
    {
     "name": "stdout",
     "output_type": "stream",
     "text": [
      "[[15, 19, 26, 28, 37, 38, 38, 36, 35, 31, 39, 36, 35, 30, 31, 31, 37, 44, 40, 35, 31, 31, 31, 33, 42, 41, 44, 42, 36, 40, 39], [39, 49, 50, 50, 53, 57, 60, 53, 55, 45, 43, 47, 46, 48, 43, 40, 38, 44, 47, 44, 39, 33, 31, 35, 44, 35, 37, 36], [40, 37, 34, 33, 39, 43, 45, 45, 46, 50, 54, 50, 51, 56, 62, 63, 61, 53, 47, 53, 57, 54, 52, 47, 42, 48, 56, 62, 53, 57, 63], [46, 44, 44, 54, 60, 50, 52, 46, 49, 53, 58, 50, 57, 56, 33, 44, 50, 54, 56, 56, 60, 61, 61, 59, 51, 46, 50, 57, 65, 63], [63, 71, 68, 67, 62, 59, 58, 57, 49, 53, 59, 68, 65, 65, 53, 48, 56, 58, 55, 59, 58, 58, 55, 57, 62, 59, 61, 61, 64, 71, 76], [80, 68, 69, 68, 69, 70, 66, 73, 77, 78, 72, 74, 75, 76, 81, 77, 78, 83, 83, 78, 81, 78, 78, 83, 82, 84, 87, 88, 91, 89], [87, 87, 87, 89, 79, 79, 76, 75, 73, 72, 77, 79, 81, 77, 80, 80, 79, 74, 74, 73, 76, 77, 75, 78, 78, 84, 77, 66, 70, 76, 79], [80, 79, 69, 76, 82, 74, 76, 69, 72, 79, 83, 81, 83, 88, 83, 79, 77, 72, 74, 76, 81, 74, 76, 84, 85, 78, 77, 80, 85, 82, 75], [82, 83, 82, 80, 75, 60, 65, 66, 71, 73, 74, 76, 76, 74, 65, 57, 59, 56, 60, 65, 69, 71, 73, 72, 77, 79, 79, 74, 73, 77], [78, 64, 61, 62, 64, 65, 62, 65, 64, 69, 70, 64, 65, 67, 66, 66, 69, 66, 62, 56, 57, 55, 54, 57, 58, 58, 51, 49, 50, 45, 57], [61, 61, 53, 41, 39, 40, 40, 44, 51, 36, 40, 42, 41, 43, 48, 39, 32, 41, 42, 39, 34, 34, 35, 40, 45, 32, 28, 25, 25, 28], [29, 29, 32, 35, 36, 38, 37, 45, 51, 47, 37, 35, 36, 31, 26, 30, 23, 35, 41, 36, 38, 38, 31, 30, 23, 19, 17, 19, 21, 21, 12]]\n",
      "Mean temp on August 23: 76\n"
     ]
    }
   ],
   "source": [
    "# initialize the 12 arrays for the months\n",
    "temperature_matrix = [[] for i in range(12)]\n",
    "\n",
    "# open the file and append the values of the last column to the array\n",
    "with open('SLC_2015.csv') as csvfile:\n",
    "    filereader = csv.reader(csvfile, delimiter=',', quotechar='|')\n",
    "    # get rid of the header\n",
    "    next(filereader)\n",
    "    for row in filereader:\n",
    "        month = int(row[0].split('/')[0])\n",
    "        mean_temp = int(row[2])\n",
    "        temperature_matrix[month-1].append(mean_temp)\n",
    "\n",
    "print(temperature_matrix)\n",
    "\n",
    "# the mean tempertarure on August 23. Note the index offset:\n",
    "print(\"Mean temp on August 23: \" + str(temperature_matrix[7][22]))"
   ]
  },
  {
   "cell_type": "markdown",
   "metadata": {},
   "source": [
    "We will next compute the same descriptive statistics as in Part 1 using the nested array `temperature_matrix`. \n",
    "\n",
    "In this problem, **we again want you to implement the solutions using standard python functionality and the math library**. We recommend you check your results using NumPy.\n",
    "\n",
    "**Note:** Since the lists in the matrix are of varying lengths (28 to 31 days) many of the standard NumPy functions won't work directly."
   ]
  },
  {
   "cell_type": "markdown",
   "metadata": {},
   "source": [
    "### Task 2.1: Calculates the Avg. Temperature from April to July(4 months)\n",
    "\n",
    "Write a function that calculates the mean of a matrix from a particular starting month to the ending month. For this version calculate the mean over all elements in the matrix as if it was one large vector. \n",
    "Pass in the matrix with the weather data,starting and ending month and return the result. Provide a written interpretation of your results.\n",
    "Can you use your function from Part 1 and get a valid result?"
   ]
  },
  {
   "cell_type": "code",
   "execution_count": 72,
   "metadata": {},
   "outputs": [
    {
     "name": "stdout",
     "output_type": "stream",
     "text": [
      "67.29508196721312\n"
     ]
    }
   ],
   "source": [
    "# your code goes here\n",
    "def matrix_mean(data, start, end):\n",
    "    avg_range = data[start:end]\n",
    "    # combine lists\n",
    "    comb_list = []\n",
    "    for x in range(len(avg_range)):\n",
    "        for y in range(len(avg_range[x])):\n",
    "            comb_list.append(avg_range[x][y])\n",
    "    mean = sum(comb_list)/len(comb_list)\n",
    "    return mean\n",
    "\n",
    "print(matrix_mean(temperature_matrix, 3, 7))"
   ]
  },
  {
   "cell_type": "code",
   "execution_count": 74,
   "metadata": {},
   "outputs": [
    {
     "name": "stdout",
     "output_type": "stream",
     "text": [
      "67.29508196721312\n"
     ]
    }
   ],
   "source": [
    "# check results with numpy\n",
    "arr = np.concatenate(temperature_matrix[3:7])\n",
    "print(np.mean(arr))"
   ]
  },
  {
   "cell_type": "markdown",
   "metadata": {},
   "source": [
    "**Your Interpretation:** The matrix must be concatenated in some way to get the mean, but otherwise Numpy is more efficent to use."
   ]
  },
  {
   "cell_type": "markdown",
   "metadata": {},
   "source": [
    "### Task 2.2:  Calculate the mean of each vector of a matrix\n",
    "\n",
    "Write a function that calculates the mean temperature of each month and returns an array with the means for each row. Provide a written interpretation of your results. Can you use the function you implemented in Part 1 here efficiently? If so, use it."
   ]
  },
  {
   "cell_type": "code",
   "execution_count": 75,
   "metadata": {},
   "outputs": [
    {
     "name": "stdout",
     "output_type": "stream",
     "text": [
      "[34.54838709677419, 44.32142857142857, 50.096774193548384, 52.833333333333336, 60.483870967741936, 77.86666666666666, 77.87096774193549, 78.35483870967742, 71.43333333333334, 61.16129032258065, 39.96666666666667, 31.548387096774192]\n"
     ]
    }
   ],
   "source": [
    "# your code goes here\n",
    "def mean_temp_month(data):\n",
    "    mean = []\n",
    "    for x in data:\n",
    "        mean.append(arith_mean(x))\n",
    "    return mean\n",
    "\n",
    "print(mean_temp_month(temperature_matrix))"
   ]
  },
  {
   "cell_type": "markdown",
   "metadata": {},
   "source": [
    "**Your Interpretation:** This defined function works well on its own to find the mean of each list set in the temperature matrix."
   ]
  },
  {
   "cell_type": "markdown",
   "metadata": {},
   "source": [
    "### Task 2.3:  Calculate the median of a whole matrix\n",
    "\n",
    "Write a function that calculates and returns the median of a matrix over all values (independent from which row they are coming) and returns it. Provide a written interpretation of your results. Can you use your function from Part 1 and get a valid result?"
   ]
  },
  {
   "cell_type": "code",
   "execution_count": 83,
   "metadata": {},
   "outputs": [
    {
     "name": "stdout",
     "output_type": "stream",
     "text": [
      "57\n"
     ]
    }
   ],
   "source": [
    "# your code goes here\n",
    "def median_matrix(data):\n",
    "    comb_list = []\n",
    "    for x in range(len(data)):\n",
    "        for y in range(len(data[x])):\n",
    "            comb_list.append(data[x][y])\n",
    "    median = stats.median(comb_list)\n",
    "    return median\n",
    "    \n",
    "print(median_matrix(temperature_matrix))"
   ]
  },
  {
   "cell_type": "code",
   "execution_count": 84,
   "metadata": {},
   "outputs": [
    {
     "name": "stdout",
     "output_type": "stream",
     "text": [
      "57.0\n"
     ]
    }
   ],
   "source": [
    "# check results with numpy\n",
    "arr = np.concatenate(temperature_matrix[:])\n",
    "print(np.median(arr))"
   ]
  },
  {
   "cell_type": "markdown",
   "metadata": {},
   "source": [
    "**Your Interpretation:** The median is a float for the Numpy result while the median is an int for the function result, which likely means Numpy is using some sort of mathematical approach that converts the list to float values."
   ]
  },
  {
   "cell_type": "markdown",
   "metadata": {},
   "source": [
    "### Task 2.4: Calculate the median of each vector of a matrix\n",
    "\n",
    "Write a function that calculates the median of each sub array (i.e. each row in the temperature_matrix) in the matrix and returns an array of medians (one entry for each row). To do so, use the function you implemented in Part 1. Provide a written interpretation of your results. "
   ]
  },
  {
   "cell_type": "code",
   "execution_count": 87,
   "metadata": {},
   "outputs": [
    {
     "name": "stdout",
     "output_type": "stream",
     "text": [
      "[36, 44.0, 51, 53.5, 59, 78.0, 77, 79, 73.0, 62, 40.0, 32]\n"
     ]
    }
   ],
   "source": [
    "# your code goes here\n",
    "def median_sublist(data):\n",
    "    median = []\n",
    "    for x in data:\n",
    "        median.append(stats.median(x))\n",
    "    return median\n",
    "\n",
    "print(median_sublist(temperature_matrix))"
   ]
  },
  {
   "cell_type": "markdown",
   "metadata": {},
   "source": [
    "**Your Interpretation:** It is easy to use a defined function where a Numpy function might work just fine."
   ]
  },
  {
   "cell_type": "markdown",
   "metadata": {},
   "source": [
    "### Task 2.5: Calculate the standard deviation of a whole matrix\n",
    "\n",
    "Write a function that calculates the [standard deviation](https://en.wikipedia.org/wiki/Standard_deviation) of a matrix over all values in the matrix (ignoring from which row they were coming) and returns it. Can you use your function calculating variance from Part 1 and get a valid result? Provide a written interpretation of your results. "
   ]
  },
  {
   "cell_type": "code",
   "execution_count": 18,
   "metadata": {},
   "outputs": [],
   "source": [
    "# your code goes here"
   ]
  },
  {
   "cell_type": "code",
   "execution_count": 19,
   "metadata": {},
   "outputs": [],
   "source": [
    "# check results with numpy"
   ]
  },
  {
   "cell_type": "markdown",
   "metadata": {},
   "source": [
    "**Your Interpretation:** TODO"
   ]
  },
  {
   "cell_type": "markdown",
   "metadata": {},
   "source": [
    "### Task 2.6: Calculate the standard deviation of each vector of a matrix\n",
    "\n",
    "Write a function that calculates the [standard deviation](https://en.wikipedia.org/wiki/Standard_deviation) of each array in the matrix and returns an array of standard deviations (one standard deviation for each row). To do so, use the function calculating variance you implemented in Part 1. \n",
    "Pass in the matrix with the temperature data and return the result. Provide a written interpretation of your results - is the standard deviation consistent across the seasons? "
   ]
  },
  {
   "cell_type": "code",
   "execution_count": 20,
   "metadata": {},
   "outputs": [],
   "source": [
    "# your code goes here"
   ]
  },
  {
   "cell_type": "markdown",
   "metadata": {},
   "source": [
    "**Your Interpretation:** TODO"
   ]
  },
  {
   "cell_type": "markdown",
   "metadata": {},
   "source": [
    "## Part 3: Poisson distribution \n",
    "\n",
    "In class, we looked at [Bernoulli](https://en.wikipedia.org/wiki/Bernoulli_distribution) and [binomial](https://en.wikipedia.org/wiki/Binomial_distribution) discrete random variables. Another example of a discrete random variable is a *Poisson random variable*. \n",
    "\n",
    "Read the [wikipedia article on the Poisson distribution](https://en.wikipedia.org/wiki/Poisson_distribution)\n",
    "\n",
    "### Part 3.1. Descriptive statistics\n",
    "\n",
    "Describe what a Poisson random variable is. What is the parameter, $\\lambda$? What is the min, max, mean, and variance of a Poisson random variable? "
   ]
  },
  {
   "cell_type": "markdown",
   "metadata": {},
   "source": [
    "**Your description:** TODO"
   ]
  },
  {
   "cell_type": "markdown",
   "metadata": {},
   "source": [
    "### Part 3.2. Example \n",
    "\n",
    "Give an example of an application that is described by a Poisson random variable."
   ]
  },
  {
   "cell_type": "markdown",
   "metadata": {},
   "source": [
    "**Your description:** TODO"
   ]
  },
  {
   "cell_type": "markdown",
   "metadata": {},
   "source": [
    "### Part 3.3. Probability mass function\n",
    "\n",
    "For the parameter $\\lambda = 4$, plot the probability mass function (you may use scipy). "
   ]
  },
  {
   "cell_type": "code",
   "execution_count": 21,
   "metadata": {},
   "outputs": [],
   "source": [
    "# your code"
   ]
  },
  {
   "cell_type": "markdown",
   "metadata": {},
   "source": [
    "### Part 3.4. Poission sampling\n",
    "\n",
    "Write python code that takes 1500 samples from the Poisson distribution with parameter $\\lambda = 4$. Make a histogram of the samples and compute the sample mean and variance. How does the histogram compare to the probability mass function?"
   ]
  },
  {
   "cell_type": "code",
   "execution_count": 22,
   "metadata": {},
   "outputs": [],
   "source": [
    "# your code"
   ]
  },
  {
   "cell_type": "markdown",
   "metadata": {},
   "source": [
    "**Your description:** TODO"
   ]
  }
 ],
 "metadata": {
  "kernelspec": {
   "display_name": "Python 3 (ipykernel)",
   "language": "python",
   "name": "python3"
  },
  "language_info": {
   "codemirror_mode": {
    "name": "ipython",
    "version": 3
   },
   "file_extension": ".py",
   "mimetype": "text/x-python",
   "name": "python",
   "nbconvert_exporter": "python",
   "pygments_lexer": "ipython3",
   "version": "3.9.13"
  }
 },
 "nbformat": 4,
 "nbformat_minor": 4
}
