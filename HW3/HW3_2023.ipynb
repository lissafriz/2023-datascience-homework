{
 "cells": [
  {
   "cell_type": "markdown",
   "metadata": {},
   "source": [
    "# Introduction to Data Science - Homework 3 (2023)\n",
    "*COMP 5360 / MATH 4100, University of Utah, http://datasciencecourse.net/*\n",
    "\n",
    "Due: Friday, February 3, 11:59pm.\n",
    "\n",
    "In this homework you will read in and analyze a movies dataset. First we'll do some basic analysis with vanilla Python, then we'll move on to doing more advanced analysis with [Pandas](http://pandas.pydata.org/pandas-docs/stable). \n"
   ]
  },
  {
   "cell_type": "markdown",
   "metadata": {},
   "source": [
    "## Your Data\n",
    "Fill out the following information: \n",
    "\n",
    "*First Name:* Melissa   \n",
    "*Last Name:* Frisby   \n",
    "*E-mail:* u1175875@utah.edu   \n",
    "*UID:* u1175875  \n"
   ]
  },
  {
   "cell_type": "code",
   "execution_count": 1,
   "metadata": {},
   "outputs": [],
   "source": [
    "# imports\n",
    "import csv\n",
    "import pandas as pd\n",
    "import numpy as np\n",
    "import matplotlib.pyplot as plt\n",
    "plt.style.use('ggplot')\n",
    "%matplotlib inline"
   ]
  },
  {
   "cell_type": "markdown",
   "metadata": {},
   "source": [
    "## Part 1: Analyzing Data The Hard Way"
   ]
  },
  {
   "cell_type": "markdown",
   "metadata": {},
   "source": [
    "In this part we'll do some manual analysis of a movies dataset."
   ]
  },
  {
   "cell_type": "markdown",
   "metadata": {
    "tags": []
   },
   "source": [
    "### Task 1.1: Read in the data\n",
    "\n",
    "Parse the file [movies.csv](movies.csv) using the [csv library](https://docs.python.org/3/library/csv.html). Lecture 6 might be a good inspiration for this. \n",
    "\n",
    "We recommend that you store the header in a separate array. Make sure that at least the \"ratings\" and the \"votes\" columns are cast to the appropriate data types for doing calculations with them. \n",
    "\n",
    "Print the header, the number of rows and columns, and Row 50 of the table."
   ]
  },
  {
   "cell_type": "code",
   "execution_count": 2,
   "metadata": {},
   "outputs": [
    {
     "name": "stdout",
     "output_type": "stream",
     "text": [
      "['', 'title', 'year', 'length', 'budget', 'rating', 'votes', 'r1', 'r2', 'r3', 'r4', 'r5', 'r6', 'r7', 'r8', 'r9', 'r10', 'mpaa', 'Action', 'Animation', 'Comedy', 'Drama', 'Documentary', 'Romance', 'Short']\n",
      "58788\n",
      "25\n",
      "[50, \"'What's Your 'I.Q.'?' Number Two\", 1940, 9.0, 0, 5.9, 9.0, '0', '0', '14.5', '14.5', '24.5', '24.5', '14.5', '0', '14.5', '14.5', '', '0', '0', '0', '0', '1', '0', '1']\n"
     ]
    }
   ],
   "source": [
    "# initialize the top-level array\n",
    "movies = []\n",
    "header = []\n",
    "with open('movies.csv') as csvfile:\n",
    "    filereader = csv.reader(csvfile, delimiter=',', quotechar='\"')\n",
    "    for row in filereader:\n",
    "        movies.append(row)\n",
    "\n",
    "# Store the header in a separate array\n",
    "header = movies.pop(0)\n",
    "\n",
    "# convert numbers to floats or ints for ranks\n",
    "for row in movies:\n",
    "    row[0] = int(row[0])\n",
    "    row[2] = int(row[2])\n",
    "    row[3] = float(row[3])\n",
    "    if row[4] == 'NA':\n",
    "        row[4] = 0\n",
    "    else:\n",
    "        row[4] = float(row[4])\n",
    "    row[5] = float(row[5])\n",
    "    row[6] = float(row[6])\n",
    "\n",
    "\n",
    "# print header, rows and cols, and row 50\n",
    "print(header)\n",
    "print(len(movies))\n",
    "print(len(header))\n",
    "print(movies[49][:])"
   ]
  },
  {
   "cell_type": "markdown",
   "metadata": {},
   "source": [
    "### Task 1.2:  Calculate movie stats\n",
    "\n",
    "In this task, you will calculate some statistics about movies. We suggest you implement your solutions for Tasks 1.2.1-1.2.3 in one code cell – you should be able to calculate this in a single iteration over the dataset.\n",
    "\n",
    "#### Task 1.2.1 Calculate average number of votes\n",
    "Compute the average number of votes for the movies and print the output. Also print the number of movies.\n",
    "Your output could look like this:\n",
    "    \n",
    "    Average number of votes: xxx.xxxx, Number of movies: xx\n",
    "\n",
    "#### Task 1.2.2: Calculate average rating for minor movies\n",
    "\n",
    "Compute the average rating for the movies that have less than 400 votes in your loaded dataset and print the output. (We'll call these movies with less than 400 votes *minor movies* from now on).\n",
    "\n",
    "Your output could look like this:\n",
    "    \n",
    "    Average rating of movies with less than 400 votes: xxx.xxxx, Number of minor movies: xx\n",
    "\n",
    "#### Task 1.2.3: Find the highest and the lowest rated minor movies\n",
    "\n",
    "Find out which of the movie with less than 400 votes has the highest rating, and which of the movie with less than 400 votes has the lowest rating.\n",
    "\n",
    "Your output could look like this:\n",
    "    \n",
    "    Highest rating: xxx.xxxx, Title: MOVIE TITLE\n",
    "    Lowest rating: xxx.xxxx, Title: MOVIE TITLE\n",
    " \n",
    "#### Task 1.2.4: Interpret the data\n",
    " * What's the size relationship of minor movies to all movies?\n",
    " * Are minor movies usually worse than the average movies?"
   ]
  },
  {
   "cell_type": "code",
   "execution_count": 3,
   "metadata": {},
   "outputs": [
    {
     "name": "stdout",
     "output_type": "stream",
     "text": [
      "Average number of votes:  632.1303837517861 , Number of movies:  58788\n",
      "Average rating of movies with less that 400 votes:  5.874335114133126 , Number of minor movies:  51475\n",
      "Highest rating:  10.0 , Title:  Dimensia Minds Trilogy: The Hope Factor\n",
      "Lowest rating:  1.0 , Title:  20/20 Vision\n"
     ]
    }
   ],
   "source": [
    "rating = []\n",
    "votes = []\n",
    "minor_movies = []\n",
    "for row in movies:\n",
    "    votes.append(row[6])\n",
    "    rating.append(row[5])\n",
    "    if row[6] < 400:\n",
    "        minor_movies.append(row)\n",
    "            \n",
    "avg_votes = sum(votes)/len(votes)\n",
    "minor_rating = [row[5] for row in minor_movies]\n",
    "avg_rat_minor = sum(minor_rating)/len(minor_rating)\n",
    "high_rat = max(minor_rating)\n",
    "high_rat_ind = np.argmax(minor_rating)\n",
    "low_rat = min(minor_rating)\n",
    "low_rat_ind = np.argmin(minor_rating)\n",
    "print('Average number of votes: ', str(avg_votes), ', Number of movies: ', str(len(movies)))\n",
    "print('Average rating of movies with less that 400 votes: ', str(avg_rat_minor),\n",
    "      ', Number of minor movies: ', str(len(minor_movies)))\n",
    "print('Highest rating: ', str(high_rat), ', Title: ', str(minor_movies[high_rat_ind][1]))\n",
    "print('Lowest rating: ', str(low_rat), ', Title: ', str(minor_movies[low_rat_ind][1]))"
   ]
  },
  {
   "cell_type": "markdown",
   "metadata": {},
   "source": [
    "**Your Interpretation**: There are significantly more minor movies than large movies, with 87.6% of movies being considered minor movies. There is no difference in rank high or low, so minor movies are probably just as likely to have a high or low rating compared to larger movies."
   ]
  },
  {
   "cell_type": "markdown",
   "metadata": {},
   "source": [
    "## Part 2: Pandas"
   ]
  },
  {
   "cell_type": "markdown",
   "metadata": {},
   "source": [
    "In this part we will use the [Pandas library](http://pandas.pydata.org/pandas-docs/stable) for our analysis."
   ]
  },
  {
   "cell_type": "markdown",
   "metadata": {},
   "source": [
    "### Task 2.1: Loading data\n",
    "\n",
    "Read in the data again. This time you should create a [Pandas DataFrame](http://pandas.pydata.org/pandas-docs/stable/generated/pandas.DataFrame.html). Print the head of the dataset. \n",
    " * How many data rows did you load? How many columns?\n",
    " * Of which data types are the columns? \n",
    " * Do you have to do manual data type conversions?"
   ]
  },
  {
   "cell_type": "code",
   "execution_count": 4,
   "metadata": {},
   "outputs": [
    {
     "name": "stdout",
     "output_type": "stream",
     "text": [
      "   Unnamed: 0                     title  year  length  budget  rating  votes  \\\n",
      "0           1                         $  1971     121     NaN     6.4    348   \n",
      "1           2         $1000 a Touchdown  1939      71     NaN     6.0     20   \n",
      "2           3    $21 a Day Once a Month  1941       7     NaN     8.2      5   \n",
      "3           4                   $40,000  1996      70     NaN     8.2      6   \n",
      "4           5  $50,000 Climax Show, The  1975      71     NaN     3.4     17   \n",
      "\n",
      "     r1    r2   r3  ...    r9   r10  mpaa  Action  Animation  Comedy  Drama  \\\n",
      "0   4.5   4.5  4.5  ...   4.5   4.5   NaN       0          0       1      1   \n",
      "1   0.0  14.5  4.5  ...   4.5  14.5   NaN       0          0       1      0   \n",
      "2   0.0   0.0  0.0  ...  24.5  24.5   NaN       0          1       0      0   \n",
      "3  14.5   0.0  0.0  ...  34.5  45.5   NaN       0          0       1      0   \n",
      "4  24.5   4.5  0.0  ...   0.0  24.5   NaN       0          0       0      0   \n",
      "\n",
      "  Documentary  Romance  Short  \n",
      "0           0        0      0  \n",
      "1           0        0      0  \n",
      "2           0        0      1  \n",
      "3           0        0      0  \n",
      "4           0        0      0  \n",
      "\n",
      "[5 rows x 25 columns]\n",
      "(58788, 25)\n",
      "Unnamed: 0       int64\n",
      "title           object\n",
      "year             int64\n",
      "length           int64\n",
      "budget         float64\n",
      "rating         float64\n",
      "votes            int64\n",
      "r1             float64\n",
      "r2             float64\n",
      "r3             float64\n",
      "r4             float64\n",
      "r5             float64\n",
      "r6             float64\n",
      "r7             float64\n",
      "r8             float64\n",
      "r9             float64\n",
      "r10            float64\n",
      "mpaa            object\n",
      "Action           int64\n",
      "Animation        int64\n",
      "Comedy           int64\n",
      "Drama            int64\n",
      "Documentary      int64\n",
      "Romance          int64\n",
      "Short            int64\n",
      "dtype: object\n"
     ]
    }
   ],
   "source": [
    "movies_pd = pd.read_csv('movies.csv')\n",
    "print(movies_pd.head())\n",
    "print(movies_pd.shape)\n",
    "print(movies_pd.dtypes)"
   ]
  },
  {
   "cell_type": "markdown",
   "metadata": {},
   "source": [
    "**Your Interpretation**: There are 58788 movies and 25 columns they are contained in. The data types vary from int64, object, and float64, but I will not have to do manual conversions."
   ]
  },
  {
   "cell_type": "markdown",
   "metadata": {},
   "source": [
    "### Task 2.2: Calculate the average number of votes\n",
    "\n",
    "Compute the average number of votes for all movies and print the output in a formatted way.\n",
    "\n",
    "Your output could look like this:\n",
    "    \n",
    "    Average number of votes: xxx.xxxx"
   ]
  },
  {
   "cell_type": "code",
   "execution_count": 5,
   "metadata": {},
   "outputs": [
    {
     "name": "stdout",
     "output_type": "stream",
     "text": [
      "Average number of votes:  632.1303837517861\n"
     ]
    }
   ],
   "source": [
    "avg_votes_pd = np.mean(movies_pd['votes'])\n",
    "print('Average number of votes: ', str(avg_votes_pd))"
   ]
  },
  {
   "cell_type": "markdown",
   "metadata": {},
   "source": [
    "### Task 2.3: Compare the runtime\n",
    "\n",
    "We want to measure the runtime of the mean calculation using [Pandas](http://pandas.pydata.org/pandas-docs/stable) and compare it to the computation time for calculating the mean using a for loop (you can copy the relevant parts from Task 1). However, since this dataset still not very large, run the mean calculations 300 times in a loop and measure that. \n",
    "\n",
    "You can use [time.process_time()](https://docs.python.org/3/library/time.html#time.process_time) to set timestamps before and after the execution of the code you want to measure, then you simply subtract end time from start time.\n",
    "\n",
    "Print your results in a human readable way and add a metric to the output. Calculate the factor of the difference and print it. Note that the exact times and the factors will vary when you re-run this and especially between machines. \n",
    "\n",
    "E.g.:  \n",
    "    time using own code: xxx.xxx s  \n",
    "    time using Pandas: xxx.xxx s  \n",
    "    difference factor: xxx\n",
    "    \n",
    "Interpret the results. Is this difference substantial?     "
   ]
  },
  {
   "cell_type": "code",
   "execution_count": 10,
   "metadata": {},
   "outputs": [
    {
     "name": "stdout",
     "output_type": "stream",
     "text": [
      "Time using own code:  2.6875 s\n",
      "Time using pandas:  0.03125 s\n",
      "Difference:  86.0\n"
     ]
    }
   ],
   "source": [
    "import time\n",
    "# your code goes here\n",
    "start_loop = time.process_time()\n",
    "for x in range(0,300):\n",
    "    votes_loop = []\n",
    "    for row in movies:\n",
    "        votes_loop.append(row[6])            \n",
    "    avg_votes = sum(votes)/len(votes)\n",
    "end_loop = time.process_time()\n",
    "\n",
    "start_pd = time.process_time()\n",
    "for x in range(0,300):\n",
    "    avg_votes_pd = np.mean(movies_pd['votes'])\n",
    "end_pd = time.process_time()\n",
    "\n",
    "code = end_loop - start_loop\n",
    "pand = end_pd - start_pd\n",
    "diff = code/pand\n",
    "print('Time using own code: ', str(code), 's')\n",
    "print('Time using pandas: ', str(pand), 's')\n",
    "print('Difference: ', str(diff))"
   ]
  },
  {
   "cell_type": "markdown",
   "metadata": {},
   "source": [
    "**Your Interpretation**: The code takes 50 to 100 times longer to run than pandas."
   ]
  },
  {
   "cell_type": "markdown",
   "metadata": {},
   "source": [
    "### Task 2.4: Filter out Rows\n",
    "\n",
    "The whole movies dataset has about 60k entries. Use pandas to filter your dataframe to contain only the minor movies with less than 400 votes.\n",
    "\n",
    "Count and print the number of movies with less than 400 votes. \n",
    "\n",
    "E.g.:\n",
    "    xxx.xxx movies have less than 400 votes."
   ]
  },
  {
   "cell_type": "code",
   "execution_count": 14,
   "metadata": {},
   "outputs": [
    {
     "name": "stdout",
     "output_type": "stream",
     "text": [
      "51475 movies have less than 400 votes\n"
     ]
    }
   ],
   "source": [
    "mask = movies_pd['votes'] < 400\n",
    "minor_movies_pd = movies_pd.loc[mask]\n",
    "print(str(len(minor_movies_pd)), 'movies have less than 400 votes')"
   ]
  },
  {
   "cell_type": "markdown",
   "metadata": {},
   "source": [
    "### Task 2.5: Calculate the average rating for minor movies\n",
    "\n",
    "Compute the average rating for the minor movies.\n",
    "Your output could look like this:\n",
    "    \n",
    "    Average rating of minor movies: xxx.xxxx"
   ]
  },
  {
   "cell_type": "code",
   "execution_count": 15,
   "metadata": {},
   "outputs": [
    {
     "name": "stdout",
     "output_type": "stream",
     "text": [
      "Average rating of minor movies:  5.874335114133126\n"
     ]
    }
   ],
   "source": [
    "avg_min_rat = np.mean(minor_movies_pd['rating'])\n",
    "print('Average rating of minor movies: ', str(avg_min_rat))"
   ]
  },
  {
   "cell_type": "markdown",
   "metadata": {},
   "source": [
    "### Task 2.6: Find the highest and lowest rated minor movies\n",
    "\n",
    "Find the highest rated minor movie and the lowest minor movie in the dataframe. Hint: [idxmax()](http://pandas.pydata.org/pandas-docs/stable/generated/pandas.Series.idxmax.html) and [idxmin()](http://pandas.pydata.org/pandas-docs/stable/generated/pandas.Series.idxmin.html) could be helpful, or you could sort by rating and retrieve the first element. \n",
    "\n",
    "Print the title and the rating.\n",
    "\n",
    "Your output could look like this:\n",
    "    \n",
    "    Highest rated movie: TITLE, rating: x.x\n",
    "    Lowest rated movie: TITLE, rating: x.x"
   ]
  },
  {
   "cell_type": "code",
   "execution_count": 21,
   "metadata": {
    "scrolled": true
   },
   "outputs": [
    {
     "name": "stdout",
     "output_type": "stream",
     "text": [
      "Highest rated movie:  Encadenada, La , Rating:  10.0\n",
      "Lowest rated movie:  24fps , Rating:  1.0\n"
     ]
    }
   ],
   "source": [
    "high_rat_pd = np.max(minor_movies_pd['rating'])\n",
    "high_rat_ind_pd = pd.Series.idxmax(minor_movies_pd['rating'])\n",
    "low_rat_pd = np.min(minor_movies_pd['rating'])\n",
    "low_rat_ind_pd = pd.Series.idxmin(minor_movies_pd['rating'])\n",
    "print('Highest rated movie: ', str(minor_movies_pd.iloc[high_rat_ind_pd][1]), ', Rating: ', str(high_rat_pd))\n",
    "print('Lowest rated movie: ', str(minor_movies_pd.iloc[low_rat_ind_pd][1]), ', Rating: ', str(low_rat_pd))"
   ]
  },
  {
   "cell_type": "markdown",
   "metadata": {},
   "source": [
    "### Task 2.7: Filter out rows and count specific features\n",
    "\n",
    "From the minor movies you filtered out in a previous task, find out \n",
    " * How many are action.\n",
    " * How many are animation.\n",
    " * How many are both, action and animation.\n",
    " \n",
    "Create new dataframed for each of these subsets.\n",
    "\n",
    "Hint: you can combine broadcasting statements with a boolean and using the `&` operator.\n",
    "\n",
    "Print the results, e.g.:  \n",
    "\n",
    "    xxx.xxx minor movies are action.\n",
    "    xxx.xxx minor movies are animation.\n",
    "    xxx.xxx minor movies are both, action and animation."
   ]
  },
  {
   "cell_type": "code",
   "execution_count": 31,
   "metadata": {},
   "outputs": [
    {
     "name": "stdout",
     "output_type": "stream",
     "text": [
      "3455 minor movies are action\n",
      "3491 minor movies are animation\n",
      "50 minor movies are both, action and animation\n"
     ]
    }
   ],
   "source": [
    "action = minor_movies_pd['Action'] > 0\n",
    "animation = minor_movies_pd['Animation'] > 0\n",
    "both = action & animation\n",
    "print(str(sum(action)), 'minor movies are action')\n",
    "print(str(sum(animation)), 'minor movies are animation')\n",
    "print(str(sum(both)), 'minor movies are both, action and animation')"
   ]
  },
  {
   "cell_type": "markdown",
   "metadata": {},
   "source": [
    "### Task 2.8: Compare ratings of different categories\n",
    "\n",
    "Now we want to compare the ratings for action and animation for minor movies.\n",
    "\n",
    "Compute the average rating, maximum rating, minimum rating, standard deviation, and the median for each category. Hint: there is a function that does all of this in one line. \n",
    "\n",
    "What do these numbers tell us? Provide an interpretation."
   ]
  },
  {
   "cell_type": "code",
   "execution_count": 36,
   "metadata": {},
   "outputs": [
    {
     "name": "stdout",
     "output_type": "stream",
     "text": [
      "count    3455.000000\n",
      "mean        5.065586\n",
      "std         1.587671\n",
      "min         1.000000\n",
      "25%         3.900000\n",
      "50%         5.000000\n",
      "75%         6.200000\n",
      "max         9.800000\n",
      "Name: rating, dtype: float64\n",
      "\n",
      "count    3491.000000\n",
      "mean        6.570266\n",
      "std         1.173198\n",
      "min         1.000000\n",
      "25%         5.900000\n",
      "50%         6.700000\n",
      "75%         7.300000\n",
      "max         9.800000\n",
      "Name: rating, dtype: float64\n"
     ]
    }
   ],
   "source": [
    "stats_act = minor_movies_pd['rating'].loc[action].describe()\n",
    "stats_anim = minor_movies_pd['rating'].loc[animation].describe()\n",
    "print(stats_act)\n",
    "print()\n",
    "print(stats_anim)"
   ]
  },
  {
   "cell_type": "markdown",
   "metadata": {},
   "source": [
    "**Your Interpretation**: These statistics tell us that the average rating of animated movies is higher than the average rating of action movies, but they have the same max and min ratings."
   ]
  },
  {
   "cell_type": "markdown",
   "metadata": {},
   "source": [
    "### Task 2.9: Movies per year\n",
    "\n",
    "Calcluate how many minor movies in this dataset were made in each year.\n",
    "\n",
    "Print the number like this, sorted by year:\n",
    "\n",
    "    year   number of movies\n",
    "    1902    xxx\n",
    "    1903    xxx\n",
    "    ...     ...\n",
    "\n",
    "Use this data to render a line chart of the number of movies per year."
   ]
  },
  {
   "cell_type": "code",
   "execution_count": 66,
   "metadata": {},
   "outputs": [
    {
     "name": "stdout",
     "output_type": "stream",
     "text": [
      "2003    1844\n",
      "2002    1811\n",
      "2001    1784\n",
      "2000    1719\n",
      "2004    1693\n",
      "        ... \n",
      "1894       9\n",
      "1902       8\n",
      "1898       5\n",
      "1895       3\n",
      "1893       1\n",
      "Name: year, Length: 113, dtype: int64\n"
     ]
    }
   ],
   "source": [
    "# your code goes here\n",
    "yearly = minor_movies_pd['year'].value_counts()\n",
    "print(yearly)"
   ]
  },
  {
   "cell_type": "code",
   "execution_count": 81,
   "metadata": {},
   "outputs": [
    {
     "data": {
      "image/png": "[encoded data removed]",
      "text/plain": [
       "<Figure size 640x480 with 1 Axes>"
      ]
     },
     "metadata": {},
     "output_type": "display_data"
    }
   ],
   "source": [
    "# create the plot here\n",
    "yearly.plot()\n",
    "plt.title('Minor Movies Made per Year')\n",
    "plt.xlabel('Year')\n",
    "plt.ylabel('Number of Movies')\n",
    "plt.show()"
   ]
  },
  {
   "cell_type": "markdown",
   "metadata": {},
   "source": [
    "### Task 2.10: Yearly average\n",
    "\n",
    "Compute the average number of votes per year for all minor movies.  \n",
    "Use the numbers you computed to plot a line chart. Plot the year on the x-axis and the average rating on th y axis.  "
   ]
  },
  {
   "cell_type": "code",
   "execution_count": 119,
   "metadata": {},
   "outputs": [
    {
     "data": {
      "text/plain": [
       "year\n",
       "1893        90\n",
       "1894       308\n",
       "1895       109\n",
       "1896       589\n",
       "1897       305\n",
       "         ...  \n",
       "2001    105429\n",
       "2002    102462\n",
       "2003     89867\n",
       "2004     76519\n",
       "2005     12335\n",
       "Name: votes, Length: 113, dtype: int64"
      ]
     },
     "execution_count": 119,
     "metadata": {},
     "output_type": "execute_result"
    }
   ],
   "source": [
    "votes_year = minor_movies_pd.groupby('year')\n",
    "num_votes_total = votes_year.sum()\n",
    "count_votes = votes_year.value_counts()\n",
    "avg = []\n",
    "for year in votes_year:\n",
    "    "
   ]
  },
  {
   "cell_type": "markdown",
   "metadata": {},
   "source": [
    "### Task 2.11: Explore and Interpret\n",
    "\n",
    "Are old movies better? How could you explain this? \n",
    "\n",
    "Are there differences between the rating of minor movies and all movies over time? \n",
    "\n",
    "Continue to explore and use plots to inform your answer. Interesting measures to consider are the total number of votes per year, the average number of votes for a movie in a particular year, etc. "
   ]
  },
  {
   "cell_type": "code",
   "execution_count": null,
   "metadata": {},
   "outputs": [],
   "source": []
  },
  {
   "cell_type": "markdown",
   "metadata": {},
   "source": [
    "**Your interpretation**: TODO"
   ]
  }
 ],
 "metadata": {
  "anaconda-cloud": {},
  "kernelspec": {
   "display_name": "Python 3 (ipykernel)",
   "language": "python",
   "name": "python3"
  },
  "language_info": {
   "codemirror_mode": {
    "name": "ipython",
    "version": 3
   },
   "file_extension": ".py",
   "mimetype": "text/x-python",
   "name": "python",
   "nbconvert_exporter": "python",
   "pygments_lexer": "ipython3",
   "version": "3.9.13"
  }
 },
 "nbformat": 4,
 "nbformat_minor": 4
}
