{
 "cells": [
  {
   "cell_type": "markdown",
   "metadata": {},
   "source": [
    "# Introduction to Data Science - Homework 3 (2023)\n",
    "*COMP 5360 / MATH 4100, University of Utah, http://datasciencecourse.net/*\n",
    "\n",
    "Due: Friday, February 3, 11:59pm.\n",
    "\n",
    "In this homework you will read in and analyze a movies dataset. First we'll do some basic analysis with vanilla Python, then we'll move on to doing more advanced analysis with [Pandas](http://pandas.pydata.org/pandas-docs/stable). \n"
   ]
  },
  {
   "cell_type": "markdown",
   "metadata": {},
   "source": [
    "## Your Data\n",
    "Fill out the following information: \n",
    "\n",
    "*First Name:*   \n",
    "*Last Name:*   \n",
    "*E-mail:*   \n",
    "*UID:*  \n"
   ]
  },
  {
   "cell_type": "code",
   "execution_count": 1,
   "metadata": {},
   "outputs": [],
   "source": [
    "# imports\n",
    "import csv\n",
    "import pandas as pd\n",
    "import matplotlib.pyplot as plt\n",
    "plt.style.use('ggplot')\n",
    "%matplotlib inline"
   ]
  },
  {
   "cell_type": "markdown",
   "metadata": {},
   "source": [
    "## Part 1: Analyzing Data The Hard Way"
   ]
  },
  {
   "cell_type": "markdown",
   "metadata": {},
   "source": [
    "In this part we'll do some manual analysis of a movies dataset."
   ]
  },
  {
   "cell_type": "markdown",
   "metadata": {
    "tags": []
   },
   "source": [
    "### Task 1.1: Read in the data\n",
    "\n",
    "Parse the file [movies.csv](movies.csv) using the [csv library](https://docs.python.org/3/library/csv.html). Lecture 6 might be a good inspiration for this. \n",
    "\n",
    "We recommend that you store the header in a separate array. Make sure that at least the \"ratings\" and the \"votes\" columns are cast to the appropriate data types for doing calculations with them. \n",
    "\n",
    "Print the header, the number of rows and columns, and Row 50 of the table."
   ]
  },
  {
   "cell_type": "code",
   "execution_count": null,
   "metadata": {},
   "outputs": [],
   "source": [
    "# initialize the top-level array\n",
    "movies = []\n",
    "header = []\n",
    "\n"
   ]
  },
  {
   "cell_type": "markdown",
   "metadata": {},
   "source": [
    "### Task 1.2:  Calculate movie stats\n",
    "\n",
    "In this task, you will calculate some statistics about movies. We suggest you implement your solutions for Tasks 1.2.1-1.2.3 in one code cell – you should be able to calculate this in a single iteration over the dataset.\n",
    "\n",
    "#### Task 1.2.1 Calculate average number of votes\n",
    "Compute the average number of votes for the movies and print the output. Also print the number of movies.\n",
    "Your output could look like this:\n",
    "    \n",
    "    Average number of votes: xxx.xxxx, Number of movies: xx\n",
    "\n",
    "#### Task 1.2.2: Calculate average rating for minor movies\n",
    "\n",
    "Compute the average rating for the movies that have less than 400 votes in your loaded dataset and print the output. (We'll call these movies with less than 400 votes *minor movies* from now on).\n",
    "\n",
    "Your output could look like this:\n",
    "    \n",
    "    Average rating of movies with less than 400 votes: xxx.xxxx, Number of minor movies: xx\n",
    "\n",
    "#### Task 1.2.3: Find the highest and the lowest rated minor movies\n",
    "\n",
    "Find out which of the movie with less than 400 votes has the highest rating, and which of the movie with less than 400 votes has the lowest rating.\n",
    "\n",
    "Your output could look like this:\n",
    "    \n",
    "    Highest rating: xxx.xxxx, Title: MOVIE TITLE\n",
    "    Lowest rating: xxx.xxxx, Title: MOVIE TITLE\n",
    " \n",
    "#### Task 1.2.4: Interpret the data\n",
    " * What's the size relationship of minor movies to all movies?\n",
    " * Are minor movies usually worse than the average movies?"
   ]
  },
  {
   "cell_type": "code",
   "execution_count": null,
   "metadata": {},
   "outputs": [],
   "source": []
  },
  {
   "cell_type": "markdown",
   "metadata": {},
   "source": [
    "**Your Interpretation**: TODO"
   ]
  },
  {
   "cell_type": "markdown",
   "metadata": {},
   "source": [
    "## Part 2: Pandas"
   ]
  },
  {
   "cell_type": "markdown",
   "metadata": {},
   "source": [
    "In this part we will use the [Pandas library](http://pandas.pydata.org/pandas-docs/stable) for our analysis."
   ]
  },
  {
   "cell_type": "markdown",
   "metadata": {},
   "source": [
    "### Task 2.1: Loading data\n",
    "\n",
    "Read in the data again. This time you should create a [Pandas DataFrame](http://pandas.pydata.org/pandas-docs/stable/generated/pandas.DataFrame.html). Print the head of the dataset. \n",
    " * How many data rows did you load? How many columns?\n",
    " * Of which data types are the columns? \n",
    " * Do you have to do manual data type conversions?"
   ]
  },
  {
   "cell_type": "code",
   "execution_count": null,
   "metadata": {},
   "outputs": [],
   "source": []
  },
  {
   "cell_type": "markdown",
   "metadata": {},
   "source": [
    "**Your Interpretation**: TODO"
   ]
  },
  {
   "cell_type": "markdown",
   "metadata": {},
   "source": [
    "### Task 2.2: Calculate the average number of votes\n",
    "\n",
    "Compute the average number of votes for all movies and print the output in a formatted way.\n",
    "\n",
    "Your output could look like this:\n",
    "    \n",
    "    Average number of votes: xxx.xxxx"
   ]
  },
  {
   "cell_type": "code",
   "execution_count": null,
   "metadata": {},
   "outputs": [],
   "source": []
  },
  {
   "cell_type": "markdown",
   "metadata": {},
   "source": [
    "### Task 2.3: Compare the runtime\n",
    "\n",
    "We want to measure the runtime of the mean calculation using [Pandas](http://pandas.pydata.org/pandas-docs/stable) and compare it to the computation time for calculating the mean using a for loop (you can copy the relevant parts from Task 1). However, since this dataset still not very large, run the mean calculations 300 times in a loop and measure that. \n",
    "\n",
    "You can use [time.process_time()](https://docs.python.org/3/library/time.html#time.process_time) to set timestamps before and after the execution of the code you want to measure, then you simply subtract end time from start time.\n",
    "\n",
    "Print your results in a human readable way and add a metric to the output. Calculate the factor of the difference and print it. Note that the exact times and the factors will vary when you re-run this and especially between machines. \n",
    "\n",
    "E.g.:  \n",
    "    time using own code: xxx.xxx s  \n",
    "    time using Pandas: xxx.xxx s  \n",
    "    difference factor: xxx\n",
    "    \n",
    "Interpret the results. Is this difference substantial?     "
   ]
  },
  {
   "cell_type": "code",
   "execution_count": null,
   "metadata": {},
   "outputs": [],
   "source": [
    "import time\n",
    "# your code goes here"
   ]
  },
  {
   "cell_type": "markdown",
   "metadata": {},
   "source": [
    "**Your Interpretation**: TODO"
   ]
  },
  {
   "cell_type": "markdown",
   "metadata": {},
   "source": [
    "### Task 2.4: Filter out Rows\n",
    "\n",
    "The whole movies dataset has about 60k entries. Use pandas to filter your dataframe to contain only the minor movies with less than 400 votes.\n",
    "\n",
    "Count and print the number of movies with less than 400 votes. \n",
    "\n",
    "E.g.:\n",
    "    xxx.xxx movies have less than 400 votes."
   ]
  },
  {
   "cell_type": "code",
   "execution_count": null,
   "metadata": {},
   "outputs": [],
   "source": []
  },
  {
   "cell_type": "markdown",
   "metadata": {},
   "source": [
    "### Task 2.5: Calculate the average rating for minor movies\n",
    "\n",
    "Compute the average rating for the minor movies.\n",
    "Your output could look like this:\n",
    "    \n",
    "    Average rating of minor movies: xxx.xxxx"
   ]
  },
  {
   "cell_type": "code",
   "execution_count": null,
   "metadata": {},
   "outputs": [],
   "source": []
  },
  {
   "cell_type": "markdown",
   "metadata": {},
   "source": [
    "### Task 2.6: Find the highest and lowest rated minor movies\n",
    "\n",
    "Find the highest rated minor movie and the lowest minor movie in the dataframe. Hint: [idxmax()](http://pandas.pydata.org/pandas-docs/stable/generated/pandas.Series.idxmax.html) and [idxmin()](http://pandas.pydata.org/pandas-docs/stable/generated/pandas.Series.idxmin.html) could be helpful, or you could sort by rating and retrieve the first element. \n",
    "\n",
    "Print the title and the rating.\n",
    "\n",
    "Your output could look like this:\n",
    "    \n",
    "    Highest rated movie: TITLE, rating: x.x\n",
    "    Lowest rated movie: TITLE, rating: x.x"
   ]
  },
  {
   "cell_type": "code",
   "execution_count": null,
   "metadata": {
    "scrolled": true
   },
   "outputs": [],
   "source": []
  },
  {
   "cell_type": "markdown",
   "metadata": {},
   "source": [
    "### Task 2.7: Filter out rows and count specific features\n",
    "\n",
    "From the minor movies you filtered out in a previous task, find out \n",
    " * How many are action.\n",
    " * How many are animation.\n",
    " * How many are both, action and animation.\n",
    " \n",
    "Create new dataframed for each of these subsets.\n",
    "\n",
    "Hint: you can combine broadcasting statements with a boolean and using the `&` operator.\n",
    "\n",
    "Print the results, e.g.:  \n",
    "\n",
    "    xxx.xxx minor movies are action.\n",
    "    xxx.xxx minor movies are animation.\n",
    "    xxx.xxx minor movies are both, action and animation."
   ]
  },
  {
   "cell_type": "code",
   "execution_count": null,
   "metadata": {},
   "outputs": [],
   "source": []
  },
  {
   "cell_type": "markdown",
   "metadata": {},
   "source": [
    "### Task 2.8: Compare ratings of different categories\n",
    "\n",
    "Now we want to compare the ratings for action and animation for minor movies.\n",
    "\n",
    "Compute the average rating, maximum rating, minimum rating, standard deviation, and the median for each category. Hint: there is a function that does all of this in one line. \n",
    "\n",
    "What do these numbers tell us? Provide an interpretation."
   ]
  },
  {
   "cell_type": "code",
   "execution_count": null,
   "metadata": {},
   "outputs": [],
   "source": []
  },
  {
   "cell_type": "markdown",
   "metadata": {},
   "source": [
    "**Your Interpretation**: TODO"
   ]
  },
  {
   "cell_type": "markdown",
   "metadata": {},
   "source": [
    "### Task 2.9: Movies per year\n",
    "\n",
    "Calcluate how many minor movies in this dataset were made in each year.\n",
    "\n",
    "Print the number like this, sorted by year:\n",
    "\n",
    "    year   number of movies\n",
    "    1902    xxx\n",
    "    1903    xxx\n",
    "    ...     ...\n",
    "\n",
    "Use this data to render a line chart of the number of movies per year."
   ]
  },
  {
   "cell_type": "code",
   "execution_count": null,
   "metadata": {},
   "outputs": [],
   "source": [
    "# your code goes here"
   ]
  },
  {
   "cell_type": "code",
   "execution_count": null,
   "metadata": {},
   "outputs": [],
   "source": [
    "# create the plot here"
   ]
  },
  {
   "cell_type": "markdown",
   "metadata": {},
   "source": [
    "### Task 2.10: Yearly average\n",
    "\n",
    "Compute the average number of votes per year for all minor movies.  \n",
    "Use the numbers you computed to plot a line chart. Plot the year on the x-axis and the average rating on th y axis.  "
   ]
  },
  {
   "cell_type": "code",
   "execution_count": null,
   "metadata": {},
   "outputs": [],
   "source": []
  },
  {
   "cell_type": "markdown",
   "metadata": {},
   "source": [
    "### Task 2.11: Explore and Interpret\n",
    "\n",
    "Are old movies better? How could you explain this? \n",
    "\n",
    "Are there differences between the rating of minor movies and all movies over time? \n",
    "\n",
    "Continue to explore and use plots to inform your answer. Interesting measures to consider are the total number of votes per year, the average number of votes for a movie in a particular year, etc. "
   ]
  },
  {
   "cell_type": "code",
   "execution_count": null,
   "metadata": {},
   "outputs": [],
   "source": []
  },
  {
   "cell_type": "markdown",
   "metadata": {},
   "source": [
    "**Your interpretation**: TODO"
   ]
  }
 ],
 "metadata": {
  "anaconda-cloud": {},
  "kernelspec": {
   "display_name": "Python 3 (ipykernel)",
   "language": "python",
   "name": "python3"
  },
  "language_info": {
   "codemirror_mode": {
    "name": "ipython",
    "version": 3
   },
   "file_extension": ".py",
   "mimetype": "text/x-python",
   "name": "python",
   "nbconvert_exporter": "python",
   "pygments_lexer": "ipython3",
   "version": "3.9.15"
  }
 },
 "nbformat": 4,
 "nbformat_minor": 4
}
